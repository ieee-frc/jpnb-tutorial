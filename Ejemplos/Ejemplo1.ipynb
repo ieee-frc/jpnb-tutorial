{
 "cells": [
  {
   "cell_type": "markdown",
   "metadata": {},
   "source": [
    "Esta es una celda de **Markdown** "
   ]
  },
  {
   "cell_type": "code",
   "execution_count": 1,
   "metadata": {},
   "outputs": [
    {
     "name": "stdout",
     "output_type": "stream",
     "text": [
      "Esta es una celda de codigo\n"
     ]
    }
   ],
   "source": [
    "print(\"Esta es una celda de codigo\")"
   ]
  },
  {
   "cell_type": "raw",
   "metadata": {},
   "source": [
    "Esta es una de **texto crudo**"
   ]
  },
  {
   "cell_type": "markdown",
   "metadata": {},
   "source": [
    "## Atajos útiles: \n",
    "\n",
    "* `ESC` para ir al modo de comando, similar al **normal** de vim. Donde los teclas que presionemos seran comandos y no seran tomadas como entrada de caracteres. \n",
    "\n",
    "Una vez en modo normal : \n",
    "\n",
    "* `h` muestra los atajos \n",
    "\n",
    "* `a` crea una celda nueva arriba de la actual \n",
    "\n",
    "* `b` crea una celda nueva debajo de la actual \n",
    "\n",
    "* `m` cambia la celda a una celda de markdown \n",
    "\n",
    "* `y` cambia la celda a una de códidgo \n",
    "\n",
    "* `CTRL + ENTER` ejecuta la celda \n",
    "\n",
    "* `SHIFT + ENTER` ejecuta la celda y se mueve a una debajo. Si no existe, crea una nueva\n",
    "\n",
    "* `ALT + ENTER` ejecuta la celda y crea una debajo. Si existe ya una, la desplaza. \n",
    "\n",
    "* `dd` elimina la celda \n",
    "\n"
   ]
  },
  {
   "cell_type": "code",
   "execution_count": null,
   "metadata": {},
   "outputs": [],
   "source": [
    "cadena = \"Hola Mundo\"\n",
    "print(cadena)"
   ]
  },
  {
   "cell_type": "code",
   "execution_count": null,
   "metadata": {},
   "outputs": [],
   "source": [
    "cadena += \". Bienvenidos a Tutorial de Jpnb\"\n",
    "print(cadena)"
   ]
  },
  {
   "cell_type": "code",
   "execution_count": null,
   "metadata": {},
   "outputs": [],
   "source": [
    "print(cadena)"
   ]
  }
 ],
 "metadata": {
  "kernelspec": {
   "display_name": "Python 3",
   "language": "python",
   "name": "python3"
  },
  "language_info": {
   "codemirror_mode": {
    "name": "ipython",
    "version": 3
   },
   "file_extension": ".py",
   "mimetype": "text/x-python",
   "name": "python",
   "nbconvert_exporter": "python",
   "pygments_lexer": "ipython3",
   "version": "3.8.10"
  }
 },
 "nbformat": 4,
 "nbformat_minor": 4
}
