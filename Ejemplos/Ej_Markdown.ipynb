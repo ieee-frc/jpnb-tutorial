{
 "cells": [
  {
   "cell_type": "markdown",
   "metadata": {},
   "source": [
    "# Sintaxis de Markdown\n",
    "\n",
    "Más ejemplos y una guía completa de Markdown se puede encontrar en la \n",
    "[pagina web](https://markdown.es/sintaxis-markdown/) de Markdown"
   ]
  },
  {
   "cell_type": "markdown",
   "metadata": {},
   "source": [
    "### Titulos\n",
    "\n",
    "# Header 1 \n",
    "\n",
    "## Header 2 \n",
    "\n",
    "### Header  3 \n",
    "\n",
    "#### Header  4 \n",
    "\n",
    " Header 1 \n",
    "=== \n",
    " \n",
    "Header 2\n",
    "----\n"
   ]
  },
  {
   "cell_type": "markdown",
   "metadata": {},
   "source": [
    "### Itemizado \n",
    "\n",
    " * Item 1 \n",
    " \n",
    " * Item 2 \n",
    "     * Item 2.1\n",
    "     \n",
    "     * Item 2.2 \n",
    "     \n",
    " * Item 3 "
   ]
  },
  {
   "cell_type": "markdown",
   "metadata": {},
   "source": [
    "### Enumerado \n",
    "\n",
    "1. Elemento 1    \n",
    "2. Elemento 2\n",
    "3. Elemento 3"
   ]
  },
  {
   "cell_type": "markdown",
   "metadata": {},
   "source": [
    "### Hipervinculos \n",
    "\n",
    "<!-- Enlace -->\n",
    "[Texto para Link](https://jupyter.org/)\n",
    "<!-- Imagen -->\n",
    "![Texto alternativo para imagen](https://www.ieee.org/content/dam/ieee-org/ieee/web/org/globals/Webp.net-resizeimage.gif)"
   ]
  },
  {
   "cell_type": "markdown",
   "metadata": {},
   "source": [
    "### Codigo \n",
    "\n",
    "* `print(\"Hola mundo\")`\n",
    "\n",
    "\n",
    "* ```a = \"Hola mundo\" \n",
    "    print(a) ```\n",
    "\n",
    "* ```python\n",
    "    a = \"Hola mundo\" \n",
    "    print(a) ```\n",
    "\n",
    "* ~~~ python\n",
    "    a = \"Hola mundo\" \n",
    "    print(a) ~~~\n"
   ]
  },
  {
   "cell_type": "markdown",
   "metadata": {},
   "source": [
    "### Ecuaciones\n",
    "\n",
    "Se puede utilizar sentencias de Latex para formato matematico\n",
    "\n",
    "$H = \\frac{V_{in}}{V_{out}} $ \n",
    "\n",
    "$\n",
    "V_{esf} = 8 \\cdot \\int _0 ^R{ \\frac{\\rho \\pi}{2} d\\rho }\n",
    "$"
   ]
  }
 ],
 "metadata": {
  "kernelspec": {
   "display_name": "Python 3",
   "language": "python",
   "name": "python3"
  },
  "language_info": {
   "codemirror_mode": {
    "name": "ipython",
    "version": 3
   },
   "file_extension": ".py",
   "mimetype": "text/x-python",
   "name": "python",
   "nbconvert_exporter": "python",
   "pygments_lexer": "ipython3",
   "version": "3.8.10"
  }
 },
 "nbformat": 4,
 "nbformat_minor": 4
}
